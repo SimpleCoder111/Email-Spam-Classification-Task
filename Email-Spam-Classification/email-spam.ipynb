{
 "cells": [
  {
   "cell_type": "code",
   "execution_count": 86,
   "metadata": {},
   "outputs": [
    {
     "data": {
      "text/plain": [
       "(5572, 2)"
      ]
     },
     "execution_count": 86,
     "metadata": {},
     "output_type": "execute_result"
    }
   ],
   "source": [
    "#Import libraries\n",
    "import numpy as np\n",
    "import pandas as pd\n",
    "#Import Dataset\n",
    "df = pd.read_csv(\"./mail_data.csv\")\n",
    "df.shape"
   ]
  },
  {
   "cell_type": "code",
   "execution_count": 87,
   "metadata": {},
   "outputs": [],
   "source": [
    "# Select Only Data that is not null\n",
    "data = df.where(pd.notnull(df), '')\n",
    "\n",
    "# Change spam and ham cateogry to 0 and 1\n",
    "data.loc[data['Category'] == 'spam', 'Category',] = 0\n",
    "data.loc[data['Category'] == 'ham', 'Category',] = 1\n",
    "\n",
    "X = data['Message']\n",
    "Y = data['Category']"
   ]
  },
  {
   "cell_type": "code",
   "execution_count": 88,
   "metadata": {},
   "outputs": [
    {
     "name": "stdout",
     "output_type": "stream",
     "text": [
      "0       Go until jurong point, crazy.. Available only ...\n",
      "1                           Ok lar... Joking wif u oni...\n",
      "2       Free entry in 2 a wkly comp to win FA Cup fina...\n",
      "3       U dun say so early hor... U c already then say...\n",
      "4       Nah I don't think he goes to usf, he lives aro...\n",
      "                              ...                        \n",
      "5567    This is the 2nd time we have tried 2 contact u...\n",
      "5568                 Will ü b going to esplanade fr home?\n",
      "5569    Pity, * was in mood for that. So...any other s...\n",
      "5570    The guy did some bitching but I acted like i'd...\n",
      "5571                           Rofl. Its true to its name\n",
      "Name: Message, Length: 5572, dtype: object\n"
     ]
    }
   ],
   "source": [
    "print(X)"
   ]
  },
  {
   "cell_type": "code",
   "execution_count": 89,
   "metadata": {},
   "outputs": [
    {
     "name": "stdout",
     "output_type": "stream",
     "text": [
      "0       1\n",
      "1       1\n",
      "2       0\n",
      "3       1\n",
      "4       1\n",
      "       ..\n",
      "5567    0\n",
      "5568    1\n",
      "5569    1\n",
      "5570    1\n",
      "5571    1\n",
      "Name: Category, Length: 5572, dtype: object\n"
     ]
    }
   ],
   "source": [
    "print(Y)"
   ]
  },
  {
   "cell_type": "code",
   "execution_count": 90,
   "metadata": {},
   "outputs": [],
   "source": [
    "from sklearn.model_selection import train_test_split\n",
    "X_train, X_test, Y_train, Y_test = train_test_split(X, Y, test_size=0.2, random_state=0)"
   ]
  },
  {
   "cell_type": "code",
   "execution_count": 91,
   "metadata": {},
   "outputs": [
    {
     "name": "stdout",
     "output_type": "stream",
     "text": [
      "(5572,)\n",
      "(4457,)\n",
      "(1115,)\n"
     ]
    }
   ],
   "source": [
    "print(X.shape)\n",
    "print(X_train.shape)\n",
    "print(X_test.shape)"
   ]
  },
  {
   "cell_type": "code",
   "execution_count": 92,
   "metadata": {},
   "outputs": [
    {
     "name": "stdout",
     "output_type": "stream",
     "text": [
      "(5572,)\n",
      "(4457,)\n",
      "(1115,)\n"
     ]
    }
   ],
   "source": [
    "print(Y.shape)\n",
    "print(Y_train.shape)\n",
    "print(Y_test.shape)"
   ]
  },
  {
   "cell_type": "code",
   "execution_count": 93,
   "metadata": {},
   "outputs": [],
   "source": [
    "# Transform Data to Feature Vector\n",
    "from sklearn.feature_extraction.text import TfidfVectorizer\n",
    "feature_extraction = TfidfVectorizer(min_df = 1, stop_words = 'english', lowercase = True)\n",
    "X_train_features = feature_extraction.fit_transform(X_train)\n",
    "X_test_features = feature_extraction.transform(X_test)\n",
    "Y_train = Y_train.astype('int')\n",
    "Y_test = Y_test.astype('int')"
   ]
  },
  {
   "cell_type": "code",
   "execution_count": 94,
   "metadata": {},
   "outputs": [
    {
     "name": "stdout",
     "output_type": "stream",
     "text": [
      "  (0, 3422)\t0.6418008618863358\n",
      "  (0, 3960)\t0.40459749284424307\n",
      "  (0, 4776)\t0.2937599690543961\n",
      "  (0, 4486)\t0.4933198981059812\n",
      "  (0, 3101)\t0.30778739607068667\n",
      "  (1, 3855)\t0.4410710256765374\n",
      "  (1, 4574)\t0.4410710256765374\n",
      "  (1, 2534)\t0.4410710256765374\n",
      "  (1, 814)\t0.4410710256765374\n",
      "  (1, 4555)\t0.4205367990464199\n",
      "  (1, 2902)\t0.2120712188920981\n",
      "  (2, 3398)\t0.5133141633463273\n",
      "  (2, 1317)\t0.34462014146959175\n",
      "  (2, 432)\t0.4077104256374456\n",
      "  (2, 4294)\t0.36445133334144264\n",
      "  (2, 2503)\t0.5133141633463273\n",
      "  (2, 4776)\t0.2349500626979615\n",
      "  (3, 1138)\t0.6489221209014988\n",
      "  (3, 1160)\t0.44843330753299465\n",
      "  (3, 3378)\t0.38536596088088965\n",
      "  (3, 3118)\t0.3618113574629584\n",
      "  (3, 3778)\t0.31367701143832527\n",
      "  (4, 3805)\t1.0\n",
      "  (5, 3731)\t0.6020708068994186\n",
      "  (5, 7381)\t0.7984426989330436\n",
      "  :\t:\n",
      "  (4454, 348)\t0.2816333253882664\n",
      "  (4454, 110)\t0.3000941484572203\n",
      "  (4454, 2067)\t0.25658354936739225\n",
      "  (4454, 4488)\t0.3000941484572203\n",
      "  (4454, 651)\t0.3000941484572203\n",
      "  (4454, 373)\t0.23959800001827322\n",
      "  (4454, 796)\t0.2816333253882664\n",
      "  (4454, 7430)\t0.1801037942222884\n",
      "  (4454, 7343)\t0.4498896407891956\n",
      "  (4454, 6911)\t0.1653057679612594\n",
      "  (4454, 6902)\t0.21937394005137992\n",
      "  (4454, 1621)\t0.18784292855815676\n",
      "  (4454, 7311)\t0.1949753381818719\n",
      "  (4454, 1665)\t0.21130971337962476\n",
      "  (4454, 7011)\t0.14040083857773877\n",
      "  (4455, 2434)\t0.617585164773377\n",
      "  (4455, 5750)\t0.5526101356478642\n",
      "  (4455, 4311)\t0.3634744995680554\n",
      "  (4455, 3424)\t0.4255548030452034\n",
      "  (4456, 6077)\t0.5490155787253892\n",
      "  (4456, 4416)\t0.4542018586423069\n",
      "  (4456, 2724)\t0.40079007123433724\n",
      "  (4456, 5910)\t0.3950554110813791\n",
      "  (4456, 6769)\t0.2873431830527075\n",
      "  (4456, 2135)\t0.30498360947948605\n"
     ]
    }
   ],
   "source": [
    "print(X_train_features)"
   ]
  },
  {
   "cell_type": "code",
   "execution_count": 95,
   "metadata": {},
   "outputs": [],
   "source": [
    "# Support Vector Classification Model\n",
    "from sklearn.svm import SVC\n",
    "svc_model = SVC()"
   ]
  },
  {
   "cell_type": "code",
   "execution_count": 96,
   "metadata": {},
   "outputs": [
    {
     "data": {
      "text/html": [
       "<style>#sk-container-id-6 {color: black;background-color: white;}#sk-container-id-6 pre{padding: 0;}#sk-container-id-6 div.sk-toggleable {background-color: white;}#sk-container-id-6 label.sk-toggleable__label {cursor: pointer;display: block;width: 100%;margin-bottom: 0;padding: 0.3em;box-sizing: border-box;text-align: center;}#sk-container-id-6 label.sk-toggleable__label-arrow:before {content: \"▸\";float: left;margin-right: 0.25em;color: #696969;}#sk-container-id-6 label.sk-toggleable__label-arrow:hover:before {color: black;}#sk-container-id-6 div.sk-estimator:hover label.sk-toggleable__label-arrow:before {color: black;}#sk-container-id-6 div.sk-toggleable__content {max-height: 0;max-width: 0;overflow: hidden;text-align: left;background-color: #f0f8ff;}#sk-container-id-6 div.sk-toggleable__content pre {margin: 0.2em;color: black;border-radius: 0.25em;background-color: #f0f8ff;}#sk-container-id-6 input.sk-toggleable__control:checked~div.sk-toggleable__content {max-height: 200px;max-width: 100%;overflow: auto;}#sk-container-id-6 input.sk-toggleable__control:checked~label.sk-toggleable__label-arrow:before {content: \"▾\";}#sk-container-id-6 div.sk-estimator input.sk-toggleable__control:checked~label.sk-toggleable__label {background-color: #d4ebff;}#sk-container-id-6 div.sk-label input.sk-toggleable__control:checked~label.sk-toggleable__label {background-color: #d4ebff;}#sk-container-id-6 input.sk-hidden--visually {border: 0;clip: rect(1px 1px 1px 1px);clip: rect(1px, 1px, 1px, 1px);height: 1px;margin: -1px;overflow: hidden;padding: 0;position: absolute;width: 1px;}#sk-container-id-6 div.sk-estimator {font-family: monospace;background-color: #f0f8ff;border: 1px dotted black;border-radius: 0.25em;box-sizing: border-box;margin-bottom: 0.5em;}#sk-container-id-6 div.sk-estimator:hover {background-color: #d4ebff;}#sk-container-id-6 div.sk-parallel-item::after {content: \"\";width: 100%;border-bottom: 1px solid gray;flex-grow: 1;}#sk-container-id-6 div.sk-label:hover label.sk-toggleable__label {background-color: #d4ebff;}#sk-container-id-6 div.sk-serial::before {content: \"\";position: absolute;border-left: 1px solid gray;box-sizing: border-box;top: 0;bottom: 0;left: 50%;z-index: 0;}#sk-container-id-6 div.sk-serial {display: flex;flex-direction: column;align-items: center;background-color: white;padding-right: 0.2em;padding-left: 0.2em;position: relative;}#sk-container-id-6 div.sk-item {position: relative;z-index: 1;}#sk-container-id-6 div.sk-parallel {display: flex;align-items: stretch;justify-content: center;background-color: white;position: relative;}#sk-container-id-6 div.sk-item::before, #sk-container-id-6 div.sk-parallel-item::before {content: \"\";position: absolute;border-left: 1px solid gray;box-sizing: border-box;top: 0;bottom: 0;left: 50%;z-index: -1;}#sk-container-id-6 div.sk-parallel-item {display: flex;flex-direction: column;z-index: 1;position: relative;background-color: white;}#sk-container-id-6 div.sk-parallel-item:first-child::after {align-self: flex-end;width: 50%;}#sk-container-id-6 div.sk-parallel-item:last-child::after {align-self: flex-start;width: 50%;}#sk-container-id-6 div.sk-parallel-item:only-child::after {width: 0;}#sk-container-id-6 div.sk-dashed-wrapped {border: 1px dashed gray;margin: 0 0.4em 0.5em 0.4em;box-sizing: border-box;padding-bottom: 0.4em;background-color: white;}#sk-container-id-6 div.sk-label label {font-family: monospace;font-weight: bold;display: inline-block;line-height: 1.2em;}#sk-container-id-6 div.sk-label-container {text-align: center;}#sk-container-id-6 div.sk-container {/* jupyter's `normalize.less` sets `[hidden] { display: none; }` but bootstrap.min.css set `[hidden] { display: none !important; }` so we also need the `!important` here to be able to override the default hidden behavior on the sphinx rendered scikit-learn.org. See: https://github.com/scikit-learn/scikit-learn/issues/21755 */display: inline-block !important;position: relative;}#sk-container-id-6 div.sk-text-repr-fallback {display: none;}</style><div id=\"sk-container-id-6\" class=\"sk-top-container\"><div class=\"sk-text-repr-fallback\"><pre>SVC()</pre><b>In a Jupyter environment, please rerun this cell to show the HTML representation or trust the notebook. <br />On GitHub, the HTML representation is unable to render, please try loading this page with nbviewer.org.</b></div><div class=\"sk-container\" hidden><div class=\"sk-item\"><div class=\"sk-estimator sk-toggleable\"><input class=\"sk-toggleable__control sk-hidden--visually\" id=\"sk-estimator-id-6\" type=\"checkbox\" checked><label for=\"sk-estimator-id-6\" class=\"sk-toggleable__label sk-toggleable__label-arrow\">SVC</label><div class=\"sk-toggleable__content\"><pre>SVC()</pre></div></div></div></div></div>"
      ],
      "text/plain": [
       "SVC()"
      ]
     },
     "execution_count": 96,
     "metadata": {},
     "output_type": "execute_result"
    }
   ],
   "source": [
    "svc_model.fit(X_train_features, Y_train)"
   ]
  },
  {
   "cell_type": "code",
   "execution_count": 97,
   "metadata": {},
   "outputs": [],
   "source": [
    "Y_predict_testing = svc_model.predict(X_test_features)"
   ]
  },
  {
   "cell_type": "code",
   "execution_count": 98,
   "metadata": {},
   "outputs": [
    {
     "name": "stdout",
     "output_type": "stream",
     "text": [
      "Accuracy: 0.9838565022421525\n",
      "Precision: 0.9815005138746146\n",
      "Recall: 1.0\n",
      "F1 Score: 0.9906639004149378\n"
     ]
    }
   ],
   "source": [
    "from sklearn import metrics\n",
    "\n",
    "# Calculate metrics\n",
    "accuracy = metrics.accuracy_score(Y_test, Y_predict_testing)\n",
    "precision = metrics.precision_score(Y_test, Y_predict_testing)\n",
    "recall = metrics.recall_score(Y_test, Y_predict_testing)\n",
    "f1_score = metrics.f1_score(Y_test, Y_predict_testing)\n",
    "\n",
    "print(f\"Accuracy: {accuracy}\")\n",
    "print(f\"Precision: {precision}\")\n",
    "print(f\"Recall: {recall}\")\n",
    "print(f\"F1 Score: {f1_score}\")"
   ]
  },
  {
   "cell_type": "code",
   "execution_count": 99,
   "metadata": {},
   "outputs": [],
   "source": [
    "from sklearn.naive_bayes import MultinomialNB\n",
    "from sklearn.tree import DecisionTreeClassifier\n",
    "from sklearn.svm import SVC\n",
    "from sklearn.linear_model import LogisticRegression\n",
    "from sklearn.ensemble import RandomForestClassifier\n",
    "from sklearn.neighbors import KNeighborsClassifier\n",
    "\n",
    "# List of model\n",
    "models = [\n",
    "    (\"SVC\", SVC()),\n",
    "    (\"Logistic Regression\", LogisticRegression()),\n",
    "    (\"Naive Bayes\", MultinomialNB()),\n",
    "    (\"Decision Tree\", DecisionTreeClassifier()),\n",
    "    (\"Random Forest\", RandomForestClassifier()),\n",
    "    (\"KNN\", KNeighborsClassifier())\n",
    "]"
   ]
  },
  {
   "cell_type": "code",
   "execution_count": 100,
   "metadata": {},
   "outputs": [
    {
     "name": "stdout",
     "output_type": "stream",
     "text": [
      "===========================\n",
      "Model Name :： SVC\n",
      "===========================\n",
      "Accuracy: 0.9838565022421525\n",
      "Precision: 0.9815005138746146\n",
      "Recall: 1.0\n",
      "F1 Score: 0.9906639004149378\n",
      "===========================\n",
      "Model Name :： Logistic Regression\n",
      "===========================\n",
      "Accuracy: 0.9668161434977578\n",
      "Precision: 0.9636363636363636\n",
      "Recall: 0.9989528795811519\n",
      "F1 Score: 0.9809768637532134\n",
      "===========================\n",
      "Model Name :： Naive Bayes\n",
      "===========================\n",
      "Accuracy: 0.9757847533632287\n",
      "Precision: 0.9725050916496945\n",
      "Recall: 1.0\n",
      "F1 Score: 0.986060918946825\n",
      "===========================\n",
      "Model Name :： Decision Tree\n",
      "===========================\n",
      "Accuracy: 0.9650224215246637\n",
      "Precision: 0.9711934156378601\n",
      "Recall: 0.9884816753926702\n",
      "F1 Score: 0.9797612869745719\n",
      "===========================\n",
      "Model Name :： Random Forest\n",
      "===========================\n",
      "Accuracy: 0.9802690582959641\n",
      "Precision: 0.9784615384615385\n",
      "Recall: 0.9989528795811519\n",
      "F1 Score: 0.9886010362694302\n",
      "===========================\n",
      "Model Name :： KNN\n",
      "===========================\n",
      "Accuracy: 0.9031390134529148\n",
      "Precision: 0.8984007525870179\n",
      "Recall: 1.0\n",
      "F1 Score: 0.9464816650148662\n"
     ]
    }
   ],
   "source": [
    "# Training Loop\n",
    "accuracies = []\n",
    "\n",
    "for name, model in models:\n",
    "    # Train model\n",
    "    model.fit(X_train_features, Y_train)\n",
    "    \n",
    "    # Make Predictions on the test set\n",
    "    Y_pred = model.predict(X_test_features)\n",
    "    \n",
    "    # Accuracy Calculation\n",
    "    # Calculate metrics\n",
    "    accuracy = metrics.accuracy_score(Y_test, Y_pred)\n",
    "    precision = metrics.precision_score(Y_test, Y_pred)\n",
    "    recall = metrics.recall_score(Y_test, Y_pred)\n",
    "    f1_score = metrics.f1_score(Y_test, Y_pred)\n",
    "    \n",
    "    print(\"===========================\")\n",
    "    print(f\"Model Name :： {name}\")\n",
    "    print(\"===========================\")\n",
    "\n",
    "    print(f\"Accuracy: {accuracy}\")\n",
    "    print(f\"Precision: {precision}\")\n",
    "    print(f\"Recall: {recall}\")\n",
    "    print(f\"F1 Score: {f1_score}\")\n",
    "    accuracies.append(accuracy)"
   ]
  },
  {
   "cell_type": "code",
   "execution_count": 102,
   "metadata": {},
   "outputs": [
    {
     "data": {
      "image/png": "[encoded data removed]",
      "text/plain": [
       "<Figure size 1000x600 with 1 Axes>"
      ]
     },
     "metadata": {},
     "output_type": "display_data"
    }
   ],
   "source": [
    "import matplotlib.pyplot as plt\n",
    "\n",
    "\n",
    "# Assuming you have the model names and their accuracies stored in two lists\n",
    "model_names = ['SVC', 'Logistic Regression', 'Naive Bayes', 'Decision Tree', 'Random Forest', 'KNN']\n",
    "# accuracies = [90.5, 92.3, 91.8]  # These are just example values\n",
    "\n",
    "# Create a bar plot\n",
    "plt.figure(figsize=(10, 6))\n",
    "plt.bar(model_names, accuracies, color=['blue', 'green', 'red', 'yellow', 'purple', 'orange'])\n",
    "\n",
    "# Add title and labels\n",
    "plt.title('Model Accuracy Comparison')\n",
    "plt.xlabel('Models')\n",
    "plt.ylabel('Accuracy (%)')\n",
    "\n",
    "# Show the plot\n",
    "plt.show()"
   ]
  }
 ],
 "metadata": {
  "kernelspec": {
   "display_name": "base",
   "language": "python",
   "name": "python3"
  },
  "language_info": {
   "codemirror_mode": {
    "name": "ipython",
    "version": 3
   },
   "file_extension": ".py",
   "mimetype": "text/x-python",
   "name": "python",
   "nbconvert_exporter": "python",
   "pygments_lexer": "ipython3",
   "version": "3.11.9"
  }
 },
 "nbformat": 4,
 "nbformat_minor": 2
}
